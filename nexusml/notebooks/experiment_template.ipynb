{
 "cells": [
  {
   "cell_type": "markdown",
   "metadata": {},
   "source": [
    "# NexusML Experiment Template\n",
    "\n",
    "This notebook provides a template for running experiments with the NexusML package. It demonstrates how to use the new architecture for equipment classification tasks."
   ]
  },
  {
   "cell_type": "markdown",
   "metadata": {},
   "source": [
    "## Setup\n",
    "\n",
    "First, let's import the necessary modules and set up the environment."
   ]
  },
  {
   "cell_type": "code",
   "execution_count": 1,
   "metadata": {},
   "outputs": [],
   "source": [
    "import os\n",
    "import sys\n",
    "import pandas as pd\n",
    "import numpy as np\n",
    "import matplotlib.pyplot as plt\n",
    "import seaborn as sns\n",
    "\n",
    "# Add the project root to the Python path if needed\n",
    "project_root = os.path.abspath(os.path.join(os.getcwd(), '..'))\n",
    "if project_root not in sys.path:\n",
    "    sys.path.append(project_root)\n",
    "\n",
    "# Import NexusML modules\n",
    "from nexusml.core.di.container import DIContainer\n",
    "from nexusml.core.pipeline.context import PipelineContext\n",
    "from nexusml.core.pipeline.factory import PipelineFactory\n",
    "from nexusml.core.pipeline.orchestrator import PipelineOrchestrator\n",
    "from nexusml.core.pipeline.registry import ComponentRegistry\n",
    "from nexusml.core.config.provider import ConfigurationProvider\n",
    "\n",
    "# Set up plotting\n",
    "%matplotlib inline\n",
    "plt.style.use('seaborn-v0_8-whitegrid')\n",
    "sns.set_context('notebook')"
   ]
  },
  {
   "cell_type": "markdown",
   "metadata": {},
   "source": [
    "## Configuration\n",
    "\n",
    "Let's set up the configuration for our experiment."
   ]
  },
  {
   "cell_type": "code",
   "execution_count": 2,
   "metadata": {},
   "outputs": [
    {
     "name": "stdout",
     "output_type": "stream",
     "text": [
      "Setting NEXUSML_CONFIG to: c:\\Repos\\fca-dashboard4\\nexusml\\nexusml\\config\\nexusml_config.yml\n",
      "Error loading configuration: Configuration file not found: c:\\Repos\\fca-dashboard4\\nexusml\\nexusml\\config\\nexusml_config.yml\n",
      "Creating default configuration...\n",
      "Default configuration created successfully\n"
     ]
    }
   ],
   "source": [
    "# Set the NEXUSML_CONFIG environment variable to point to the absolute path of the configuration file\n",
    "config_file_path = os.path.abspath(os.path.join(project_root, 'nexusml/config/nexusml_config.yml'))\n",
    "os.environ['NEXUSML_CONFIG'] = config_file_path\n",
    "print(f\"Setting NEXUSML_CONFIG to: {config_file_path}\")\n",
    "\n",
    "# Get the configuration provider\n",
    "config_provider = ConfigurationProvider()\n",
    "\n",
    "# Get the configuration with error handling\n",
    "try:\n",
    "    config = config_provider.config\n",
    "    print(f\"Configuration loaded successfully\")\n",
    "    print(f\"Feature Engineering Configuration: {len(config.feature_engineering.text_combinations)} text combinations, {len(config.feature_engineering.numeric_columns)} numeric columns\")\n",
    "    print(f\"Classification Configuration: {len(config.classification.classification_targets)} classification targets\")\n",
    "    print(f\"Data Configuration: {len(config.data.required_columns)} required columns\")\n",
    "except Exception as e:\n",
    "    print(f\"Error loading configuration: {e}\")\n",
    "    print(\"Creating default configuration...\")\n",
    "    from nexusml.core.config.configuration import NexusMLConfig\n",
    "    config = NexusMLConfig()\n",
    "    config_provider.set_config(config)\n",
    "    print(\"Default configuration created successfully\")"
   ]
  },
  {
   "cell_type": "markdown",
   "metadata": {},
   "source": [
    "## Data Loading and Exploration\n",
    "\n",
    "Now, let's load the data and explore it."
   ]
  },
  {
   "cell_type": "code",
   "execution_count": 3,
   "metadata": {},
   "outputs": [
    {
     "name": "stdout",
     "output_type": "stream",
     "text": [
      "Found 5 data files:\n",
      "  1. sample_data.xlsx: C:\\Repos\\fca-dashboard4\\uploads\\sample_data.xlsx\n",
      "  2. Asset_List Wichita Animal Shelter (1).csv: C:\\Repos\\fca-dashboard4\\uploads\\Asset_List Wichita Animal Shelter (1).csv\n",
      "  3. Medtronics - Asset Log Uploader.xlsx: C:\\Repos\\fca-dashboard4\\uploads\\Medtronics - Asset Log Uploader.xlsx\n",
      "  4. sample_data_1741114202.xlsx: C:\\Repos\\fca-dashboard4\\uploads\\sample_data_1741114202.xlsx\n",
      "  5. sample_data_1741114255.xlsx: C:\\Repos\\fca-dashboard4\\uploads\\sample_data_1741114255.xlsx\n",
      "\n",
      "Loading data from: sample_data.xlsx\n",
      "Data loaded successfully with shape: (5, 5)\n",
      "Data shape: (5, 5)\n"
     ]
    },
    {
     "data": {
      "text/html": [
       "<div>\n",
       "<style scoped>\n",
       "    .dataframe tbody tr th:only-of-type {\n",
       "        vertical-align: middle;\n",
       "    }\n",
       "\n",
       "    .dataframe tbody tr th {\n",
       "        vertical-align: top;\n",
       "    }\n",
       "\n",
       "    .dataframe thead th {\n",
       "        text-align: right;\n",
       "    }\n",
       "</style>\n",
       "<table border=\"1\" class=\"dataframe\">\n",
       "  <thead>\n",
       "    <tr style=\"text-align: right;\">\n",
       "      <th></th>\n",
       "      <th>ID</th>\n",
       "      <th>Product</th>\n",
       "      <th>Price</th>\n",
       "      <th>InStock</th>\n",
       "      <th>Category</th>\n",
       "    </tr>\n",
       "  </thead>\n",
       "  <tbody>\n",
       "    <tr>\n",
       "      <th>0</th>\n",
       "      <td>1</td>\n",
       "      <td>Widget A</td>\n",
       "      <td>10.99</td>\n",
       "      <td>True</td>\n",
       "      <td>Electronics</td>\n",
       "    </tr>\n",
       "    <tr>\n",
       "      <th>1</th>\n",
       "      <td>2</td>\n",
       "      <td>Widget B</td>\n",
       "      <td>20.50</td>\n",
       "      <td>False</td>\n",
       "      <td>Tools</td>\n",
       "    </tr>\n",
       "    <tr>\n",
       "      <th>2</th>\n",
       "      <td>3</td>\n",
       "      <td>Widget C</td>\n",
       "      <td>15.75</td>\n",
       "      <td>True</td>\n",
       "      <td>Electronics</td>\n",
       "    </tr>\n",
       "    <tr>\n",
       "      <th>3</th>\n",
       "      <td>4</td>\n",
       "      <td>Widget D</td>\n",
       "      <td>8.25</td>\n",
       "      <td>True</td>\n",
       "      <td>Office</td>\n",
       "    </tr>\n",
       "    <tr>\n",
       "      <th>4</th>\n",
       "      <td>5</td>\n",
       "      <td>Widget E</td>\n",
       "      <td>30.00</td>\n",
       "      <td>False</td>\n",
       "      <td>Tools</td>\n",
       "    </tr>\n",
       "  </tbody>\n",
       "</table>\n",
       "</div>"
      ],
      "text/plain": [
       "   ID   Product  Price  InStock     Category\n",
       "0   1  Widget A  10.99     True  Electronics\n",
       "1   2  Widget B  20.50    False        Tools\n",
       "2   3  Widget C  15.75     True  Electronics\n",
       "3   4  Widget D   8.25     True       Office\n",
       "4   5  Widget E  30.00    False        Tools"
      ]
     },
     "execution_count": 3,
     "metadata": {},
     "output_type": "execute_result"
    }
   ],
   "source": [
    "# Import the data loading utility from notebook_utils\n",
    "from nexusml.utils.notebook_utils import discover_and_load_data\n",
    "\n",
    "# Discover and load data\n",
    "data, data_path = discover_and_load_data()\n",
    "\n",
    "# Display the first few rows\n",
    "print(f\"Data shape: {data.shape}\")\n",
    "data.head()"
   ]
  },
  {
   "cell_type": "code",
   "execution_count": 4,
   "metadata": {},
   "outputs": [
    {
     "name": "stdout",
     "output_type": "stream",
     "text": [
      "Data types:\n",
      "ID            int64\n",
      "Product      object\n",
      "Price       float64\n",
      "InStock        bool\n",
      "Category     object\n",
      "dtype: object\n",
      "\n",
      "Missing values:\n",
      "ID          0\n",
      "Product     0\n",
      "Price       0\n",
      "InStock     0\n",
      "Category    0\n",
      "dtype: int64\n",
      "\n",
      "Summary statistics:\n"
     ]
    },
    {
     "data": {
      "text/html": [
       "<div>\n",
       "<style scoped>\n",
       "    .dataframe tbody tr th:only-of-type {\n",
       "        vertical-align: middle;\n",
       "    }\n",
       "\n",
       "    .dataframe tbody tr th {\n",
       "        vertical-align: top;\n",
       "    }\n",
       "\n",
       "    .dataframe thead th {\n",
       "        text-align: right;\n",
       "    }\n",
       "</style>\n",
       "<table border=\"1\" class=\"dataframe\">\n",
       "  <thead>\n",
       "    <tr style=\"text-align: right;\">\n",
       "      <th></th>\n",
       "      <th>ID</th>\n",
       "      <th>Price</th>\n",
       "    </tr>\n",
       "  </thead>\n",
       "  <tbody>\n",
       "    <tr>\n",
       "      <th>count</th>\n",
       "      <td>5.000000</td>\n",
       "      <td>5.000000</td>\n",
       "    </tr>\n",
       "    <tr>\n",
       "      <th>mean</th>\n",
       "      <td>3.000000</td>\n",
       "      <td>17.098000</td>\n",
       "    </tr>\n",
       "    <tr>\n",
       "      <th>std</th>\n",
       "      <td>1.581139</td>\n",
       "      <td>8.594287</td>\n",
       "    </tr>\n",
       "    <tr>\n",
       "      <th>min</th>\n",
       "      <td>1.000000</td>\n",
       "      <td>8.250000</td>\n",
       "    </tr>\n",
       "    <tr>\n",
       "      <th>25%</th>\n",
       "      <td>2.000000</td>\n",
       "      <td>10.990000</td>\n",
       "    </tr>\n",
       "    <tr>\n",
       "      <th>50%</th>\n",
       "      <td>3.000000</td>\n",
       "      <td>15.750000</td>\n",
       "    </tr>\n",
       "    <tr>\n",
       "      <th>75%</th>\n",
       "      <td>4.000000</td>\n",
       "      <td>20.500000</td>\n",
       "    </tr>\n",
       "    <tr>\n",
       "      <th>max</th>\n",
       "      <td>5.000000</td>\n",
       "      <td>30.000000</td>\n",
       "    </tr>\n",
       "  </tbody>\n",
       "</table>\n",
       "</div>"
      ],
      "text/plain": [
       "             ID      Price\n",
       "count  5.000000   5.000000\n",
       "mean   3.000000  17.098000\n",
       "std    1.581139   8.594287\n",
       "min    1.000000   8.250000\n",
       "25%    2.000000  10.990000\n",
       "50%    3.000000  15.750000\n",
       "75%    4.000000  20.500000\n",
       "max    5.000000  30.000000"
      ]
     },
     "execution_count": 4,
     "metadata": {},
     "output_type": "execute_result"
    }
   ],
   "source": [
    "# Explore the data\n",
    "print(\"Data types:\")\n",
    "print(data.dtypes)\n",
    "\n",
    "print(\"\\nMissing values:\")\n",
    "print(data.isnull().sum())\n",
    "\n",
    "print(\"\\nSummary statistics:\")\n",
    "data.describe()"
   ]
  },
  {
   "cell_type": "markdown",
   "metadata": {},
   "source": [
    "## Pipeline Setup\n",
    "\n",
    "Let's set up the pipeline components for our experiment."
   ]
  },
  {
   "cell_type": "code",
   "execution_count": 5,
   "metadata": {},
   "outputs": [
    {
     "ename": "ImportError",
     "evalue": "cannot import name 'CSVDataLoader' from 'nexusml.core.pipeline.components.data_loader' (C:\\Repos\\fca-dashboard4\\nexusml\\core\\pipeline\\components\\data_loader.py)",
     "output_type": "error",
     "traceback": [
      "\u001b[31m---------------------------------------------------------------------------\u001b[39m",
      "\u001b[31mImportError\u001b[39m                               Traceback (most recent call last)",
      "\u001b[36mCell\u001b[39m\u001b[36m \u001b[39m\u001b[32mIn[5]\u001b[39m\u001b[32m, line 2\u001b[39m\n\u001b[32m      1\u001b[39m \u001b[38;5;66;03m# Import component implementations\u001b[39;00m\n\u001b[32m----> \u001b[39m\u001b[32m2\u001b[39m \u001b[38;5;28;01mfrom\u001b[39;00m\u001b[38;5;250m \u001b[39m\u001b[34;01mnexusml\u001b[39;00m\u001b[34;01m.\u001b[39;00m\u001b[34;01mcore\u001b[39;00m\u001b[34;01m.\u001b[39;00m\u001b[34;01mpipeline\u001b[39;00m\u001b[34;01m.\u001b[39;00m\u001b[34;01mcomponents\u001b[39;00m\u001b[34;01m.\u001b[39;00m\u001b[34;01mdata_loader\u001b[39;00m\u001b[38;5;250m \u001b[39m\u001b[38;5;28;01mimport\u001b[39;00m CSVDataLoader, ExcelDataLoader\n\u001b[32m      3\u001b[39m \u001b[38;5;28;01mfrom\u001b[39;00m\u001b[38;5;250m \u001b[39m\u001b[34;01mnexusml\u001b[39;00m\u001b[34;01m.\u001b[39;00m\u001b[34;01mcore\u001b[39;00m\u001b[34;01m.\u001b[39;00m\u001b[34;01mpipeline\u001b[39;00m\u001b[34;01m.\u001b[39;00m\u001b[34;01mcomponents\u001b[39;00m\u001b[34;01m.\u001b[39;00m\u001b[34;01mdata_preprocessor\u001b[39;00m\u001b[38;5;250m \u001b[39m\u001b[38;5;28;01mimport\u001b[39;00m StandardPreprocessor\n\u001b[32m      4\u001b[39m \u001b[38;5;28;01mfrom\u001b[39;00m\u001b[38;5;250m \u001b[39m\u001b[34;01mnexusml\u001b[39;00m\u001b[34;01m.\u001b[39;00m\u001b[34;01mcore\u001b[39;00m\u001b[34;01m.\u001b[39;00m\u001b[34;01mpipeline\u001b[39;00m\u001b[34;01m.\u001b[39;00m\u001b[34;01mcomponents\u001b[39;00m\u001b[34;01m.\u001b[39;00m\u001b[34;01mfeature_engineer\u001b[39;00m\u001b[38;5;250m \u001b[39m\u001b[38;5;28;01mimport\u001b[39;00m TextFeatureEngineer\n",
      "\u001b[31mImportError\u001b[39m: cannot import name 'CSVDataLoader' from 'nexusml.core.pipeline.components.data_loader' (C:\\Repos\\fca-dashboard4\\nexusml\\core\\pipeline\\components\\data_loader.py)"
     ]
    }
   ],
   "source": [
    "# Import component implementations\n",
    "from nexusml.core.pipeline.components.data_loader import CSVDataLoader, ExcelDataLoader\n",
    "from nexusml.core.pipeline.components.data_preprocessor import StandardPreprocessor\n",
    "from nexusml.core.pipeline.components.feature_engineer import TextFeatureEngineer\n",
    "from nexusml.core.pipeline.components.model_builder import RandomForestModelBuilder\n",
    "from nexusml.core.pipeline.components.model_trainer import StandardModelTrainer\n",
    "from nexusml.core.pipeline.components.model_evaluator import StandardModelEvaluator\n",
    "from nexusml.core.pipeline.components.model_serializer import PickleModelSerializer\n",
    "from nexusml.core.pipeline.components.predictor import StandardPredictor\n",
    "\n",
    "# Create a registry and container\n",
    "registry = ComponentRegistry()\n",
    "container = DIContainer()\n",
    "\n",
    "# Register components\n",
    "registry.register(DataLoader, \"csv\", CSVDataLoader)\n",
    "registry.register(DataLoader, \"excel\", ExcelDataLoader)\n",
    "registry.register(DataPreprocessor, \"standard\", StandardPreprocessor)\n",
    "registry.register(FeatureEngineer, \"text\", TextFeatureEngineer)\n",
    "registry.register(ModelBuilder, \"random_forest\", RandomForestModelBuilder)\n",
    "registry.register(ModelTrainer, \"standard\", StandardModelTrainer)\n",
    "registry.register(ModelEvaluator, \"standard\", StandardModelEvaluator)\n",
    "registry.register(ModelSerializer, \"pickle\", PickleModelSerializer)\n",
    "registry.register(Predictor, \"standard\", StandardPredictor)\n",
    "\n",
    "# Set default implementations\n",
    "registry.set_default_implementation(DataLoader, \"excel\")\n",
    "registry.set_default_implementation(DataPreprocessor, \"standard\")\n",
    "registry.set_default_implementation(FeatureEngineer, \"text\")\n",
    "registry.set_default_implementation(ModelBuilder, \"random_forest\")\n",
    "registry.set_default_implementation(ModelTrainer, \"standard\")\n",
    "registry.set_default_implementation(ModelEvaluator, \"standard\")\n",
    "registry.set_default_implementation(ModelSerializer, \"pickle\")\n",
    "registry.set_default_implementation(Predictor, \"standard\")\n",
    "\n",
    "# Create a factory and orchestrator\n",
    "factory = PipelineFactory(registry, container)\n",
    "context = PipelineContext()\n",
    "orchestrator = PipelineOrchestrator(factory, context)"
   ]
  },
  {
   "cell_type": "markdown",
   "metadata": {},
   "source": [
    "## Model Training\n",
    "\n",
    "Now, let's train a model using the pipeline."
   ]
  },
  {
   "cell_type": "code",
   "execution_count": null,
   "metadata": {},
   "outputs": [],
   "source": [
    "# Train a model\n",
    "try:\n",
    "    model, metrics = orchestrator.train_model(\n",
    "        data_path=data_path,\n",
    "        test_size=0.3,\n",
    "        random_state=42,\n",
    "        optimize_hyperparameters=True,\n",
    "        output_dir=\"../outputs/models\",\n",
    "        model_name=\"equipment_classifier_experiment\",\n",
    "    )\n",
    "    \n",
    "    print(\"Model training completed successfully\")\n",
    "    print(f\"Model saved to: {orchestrator.context.get('model_path')}\")\n",
    "    print(f\"Metadata saved to: {orchestrator.context.get('metadata_path')}\")\n",
    "    print(\"Metrics:\")\n",
    "    for key, value in metrics.items():\n",
    "        print(f\"  {key}: {value}\")\n",
    "except Exception as e:\n",
    "    print(f\"Error training model: {e}\")"
   ]
  },
  {
   "cell_type": "markdown",
   "metadata": {},
   "source": [
    "## Model Evaluation\n",
    "\n",
    "Let's evaluate the model in more detail."
   ]
  },
  {
   "cell_type": "code",
   "execution_count": null,
   "metadata": {},
   "outputs": [],
   "source": [
    "# Evaluate the model\n",
    "try:\n",
    "    results = orchestrator.evaluate(\n",
    "        model=model,\n",
    "        data_path=data_path,\n",
    "        output_path=\"../outputs/evaluation_results_experiment.json\",\n",
    "    )\n",
    "    \n",
    "    print(\"Evaluation completed successfully\")\n",
    "    print(f\"Evaluation results saved to: ../outputs/evaluation_results_experiment.json\")\n",
    "    print(\"Metrics:\")\n",
    "    for key, value in results[\"metrics\"].items():\n",
    "        print(f\"  {key}: {value}\")\n",
    "except Exception as e:\n",
    "    print(f\"Error evaluating model: {e}\")"
   ]
  },
  {
   "cell_type": "markdown",
   "metadata": {},
   "source": [
    "## Visualization\n",
    "\n",
    "Let's visualize the results."
   ]
  },
  {
   "cell_type": "code",
   "execution_count": null,
   "metadata": {},
   "outputs": [],
   "source": [
    "# Visualize the metrics\n",
    "try:\n",
    "    # Create a bar chart of the metrics\n",
    "    metrics_df = pd.DataFrame(list(metrics.items()), columns=['Metric', 'Value'])\n",
    "    plt.figure(figsize=(10, 6))\n",
    "    sns.barplot(x='Metric', y='Value', data=metrics_df)\n",
    "    plt.title('Model Metrics')\n",
    "    plt.xticks(rotation=45)\n",
    "    plt.tight_layout()\n",
    "    plt.show()\n",
    "    \n",
    "    # Create a confusion matrix if available\n",
    "    if 'confusion_matrix' in results['analysis']:\n",
    "        cm = results['analysis']['confusion_matrix']\n",
    "        plt.figure(figsize=(10, 8))\n",
    "        sns.heatmap(cm, annot=True, fmt='d', cmap='Blues')\n",
    "        plt.title('Confusion Matrix')\n",
    "        plt.xlabel('Predicted')\n",
    "        plt.ylabel('Actual')\n",
    "        plt.tight_layout()\n",
    "        plt.show()\n",
    "except Exception as e:\n",
    "    print(f\"Error visualizing results: {e}\")"
   ]
  },
  {
   "cell_type": "markdown",
   "metadata": {},
   "source": [
    "## Prediction\n",
    "\n",
    "Finally, let's make predictions on new data."
   ]
  },
  {
   "cell_type": "code",
   "execution_count": null,
   "metadata": {},
   "outputs": [],
   "source": [
    "# Create sample data for prediction\n",
    "prediction_data = pd.DataFrame({\n",
    "    \"equipment_tag\": [\"AHU-01\", \"CHW-01\", \"P-01\"],\n",
    "    \"manufacturer\": [\"Trane\", \"Carrier\", \"Armstrong\"],\n",
    "    \"model\": [\"M-1000\", \"C-2000\", \"A-3000\"],\n",
    "    \"description\": [\n",
    "        \"Air Handling Unit with cooling coil\",\n",
    "        \"Centrifugal Chiller for HVAC system\",\n",
    "        \"Centrifugal Pump for chilled water\",\n",
    "    ],\n",
    "})\n",
    "\n",
    "# Make predictions\n",
    "try:\n",
    "    predictions = orchestrator.predict(\n",
    "        model=model,\n",
    "        data=prediction_data,\n",
    "        output_path=\"../outputs/predictions_experiment.csv\",\n",
    "    )\n",
    "    \n",
    "    print(\"Predictions completed successfully\")\n",
    "    print(f\"Predictions saved to: {orchestrator.context.get('output_path')}\")\n",
    "    print(\"Sample predictions:\")\n",
    "    display(predictions)\n",
    "except Exception as e:\n",
    "    print(f\"Error making predictions: {e}\")"
   ]
  },
  {
   "cell_type": "markdown",
   "metadata": {},
   "source": [
    "## Conclusion\n",
    "\n",
    "In this notebook, we demonstrated how to use the NexusML package for equipment classification. We loaded data, trained a model, evaluated it, and made predictions using the new architecture.\n",
    "\n",
    "The new architecture provides a flexible, maintainable, and testable system for equipment classification. By following a modular design with clear interfaces, dependency injection, and a factory pattern, it makes it easy to create, configure, and extend the pipeline."
   ]
  }
 ],
 "metadata": {
  "kernelspec": {
   "display_name": ".venv",
   "language": "python",
   "name": "python3"
  },
  "language_info": {
   "codemirror_mode": {
    "name": "ipython",
    "version": 3
   },
   "file_extension": ".py",
   "mimetype": "text/x-python",
   "name": "python",
   "nbconvert_exporter": "python",
   "pygments_lexer": "ipython3",
   "version": "3.12.6"
  }
 },
 "nbformat": 4,
 "nbformat_minor": 4
}
