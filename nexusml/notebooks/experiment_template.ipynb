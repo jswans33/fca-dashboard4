{
 "cells": [
  {
   "cell_type": "markdown",
   "metadata": {},
   "source": [
    "# NexusML Experiment Template\n",
    "\n",
    "This notebook provides a template for running experiments with the NexusML package. It demonstrates how to use the new architecture for equipment classification tasks."
   ]
  },
  {
   "cell_type": "markdown",
   "metadata": {},
   "source": [
    "## Setup\n",
    "\n",
    "First, let's import the necessary modules and set up the environment."
   ]
  },
  {
   "cell_type": "code",
   "execution_count": 1,
   "metadata": {},
   "outputs": [],
   "source": [
    "import os\n",
    "import sys\n",
    "import pandas as pd\n",
    "import numpy as np\n",
    "import matplotlib.pyplot as plt\n",
    "import seaborn as sns\n",
    "\n",
    "# Add the project root to the Python path if needed\n",
    "project_root = os.path.abspath(os.path.join(os.getcwd(), '..'))\n",
    "if project_root not in sys.path:\n",
    "    sys.path.append(project_root)\n",
    "\n",
    "# Import NexusML modules\n",
    "from nexusml.core.di.container import DIContainer\n",
    "from nexusml.core.pipeline.context import PipelineContext\n",
    "from nexusml.core.pipeline.factory import PipelineFactory\n",
    "from nexusml.core.pipeline.orchestrator import PipelineOrchestrator\n",
    "from nexusml.core.pipeline.registry import ComponentRegistry\n",
    "from nexusml.core.config.provider import ConfigurationProvider\n",
    "\n",
    "# Set up plotting\n",
    "%matplotlib inline\n",
    "plt.style.use('seaborn-v0_8-whitegrid')\n",
    "sns.set_context('notebook')"
   ]
  },
  {
   "cell_type": "markdown",
   "metadata": {},
   "source": [
    "## Configuration\n",
    "\n",
    "Let's set up the configuration for our experiment."
   ]
  },
  {
   "cell_type": "code",
   "execution_count": 2,
   "metadata": {},
   "outputs": [
    {
     "name": "stdout",
     "output_type": "stream",
     "text": [
      "Setting NEXUSML_CONFIG to: c:\\Repos\\fca-dashboard4\\nexusml\\nexusml\\config\\nexusml_config.yml\n",
      "Error loading configuration: Configuration file not found: c:\\Repos\\fca-dashboard4\\nexusml\\nexusml\\config\\nexusml_config.yml\n",
      "Creating default configuration...\n",
      "Default configuration created successfully\n"
     ]
    }
   ],
   "source": [
    "# Set the NEXUSML_CONFIG environment variable to point to the absolute path of the configuration file\n",
    "config_file_path = os.path.abspath(os.path.join(project_root, 'nexusml/config/nexusml_config.yml'))\n",
    "os.environ['NEXUSML_CONFIG'] = config_file_path\n",
    "print(f\"Setting NEXUSML_CONFIG to: {config_file_path}\")\n",
    "\n",
    "# Get the configuration provider\n",
    "config_provider = ConfigurationProvider()\n",
    "\n",
    "# Get the configuration with error handling\n",
    "try:\n",
    "    config = config_provider.config\n",
    "    print(f\"Configuration loaded successfully\")\n",
    "    print(f\"Feature Engineering Configuration: {len(config.feature_engineering.text_combinations)} text combinations, {len(config.feature_engineering.numeric_columns)} numeric columns\")\n",
    "    print(f\"Classification Configuration: {len(config.classification.classification_targets)} classification targets\")\n",
    "    print(f\"Data Configuration: {len(config.data.required_columns)} required columns\")\n",
    "except Exception as e:\n",
    "    print(f\"Error loading configuration: {e}\")\n",
    "    print(\"Creating default configuration...\")\n",
    "    from nexusml.core.config.configuration import NexusMLConfig\n",
    "    config = NexusMLConfig()\n",
    "    config_provider.set_config(config)\n",
    "    print(\"Default configuration created successfully\")"
   ]
  },
  {
   "cell_type": "markdown",
   "metadata": {},
   "source": [
    "## Data Loading and Exploration\n",
    "\n",
    "Now, let's load the data and explore it."
   ]
  },
  {
   "cell_type": "code",
   "execution_count": 3,
   "metadata": {},
   "outputs": [
    {
     "ename": "FileNotFoundError",
     "evalue": "[Errno 2] No such file or directory: '../examples/sample_data.xlsx'",
     "output_type": "error",
     "traceback": [
      "\u001b[31m---------------------------------------------------------------------------\u001b[39m",
      "\u001b[31mFileNotFoundError\u001b[39m                         Traceback (most recent call last)",
      "\u001b[36mCell\u001b[39m\u001b[36m \u001b[39m\u001b[32mIn[3]\u001b[39m\u001b[32m, line 5\u001b[39m\n\u001b[32m      2\u001b[39m data_path = \u001b[33m\"\u001b[39m\u001b[33m../examples/sample_data.xlsx\u001b[39m\u001b[33m\"\u001b[39m\n\u001b[32m      4\u001b[39m \u001b[38;5;66;03m# Load the data using pandas\u001b[39;00m\n\u001b[32m----> \u001b[39m\u001b[32m5\u001b[39m data = \u001b[43mpd\u001b[49m\u001b[43m.\u001b[49m\u001b[43mread_excel\u001b[49m\u001b[43m(\u001b[49m\u001b[43mdata_path\u001b[49m\u001b[43m)\u001b[49m\n\u001b[32m      7\u001b[39m \u001b[38;5;66;03m# Display the first few rows\u001b[39;00m\n\u001b[32m      8\u001b[39m \u001b[38;5;28mprint\u001b[39m(\u001b[33mf\u001b[39m\u001b[33m\"\u001b[39m\u001b[33mData shape: \u001b[39m\u001b[38;5;132;01m{\u001b[39;00mdata.shape\u001b[38;5;132;01m}\u001b[39;00m\u001b[33m\"\u001b[39m)\n",
      "\u001b[36mFile \u001b[39m\u001b[32mc:\\Repos\\fca-dashboard4\\.venv\\Lib\\site-packages\\pandas\\io\\excel\\_base.py:495\u001b[39m, in \u001b[36mread_excel\u001b[39m\u001b[34m(io, sheet_name, header, names, index_col, usecols, dtype, engine, converters, true_values, false_values, skiprows, nrows, na_values, keep_default_na, na_filter, verbose, parse_dates, date_parser, date_format, thousands, decimal, comment, skipfooter, storage_options, dtype_backend, engine_kwargs)\u001b[39m\n\u001b[32m    493\u001b[39m \u001b[38;5;28;01mif\u001b[39;00m \u001b[38;5;129;01mnot\u001b[39;00m \u001b[38;5;28misinstance\u001b[39m(io, ExcelFile):\n\u001b[32m    494\u001b[39m     should_close = \u001b[38;5;28;01mTrue\u001b[39;00m\n\u001b[32m--> \u001b[39m\u001b[32m495\u001b[39m     io = \u001b[43mExcelFile\u001b[49m\u001b[43m(\u001b[49m\n\u001b[32m    496\u001b[39m \u001b[43m        \u001b[49m\u001b[43mio\u001b[49m\u001b[43m,\u001b[49m\n\u001b[32m    497\u001b[39m \u001b[43m        \u001b[49m\u001b[43mstorage_options\u001b[49m\u001b[43m=\u001b[49m\u001b[43mstorage_options\u001b[49m\u001b[43m,\u001b[49m\n\u001b[32m    498\u001b[39m \u001b[43m        \u001b[49m\u001b[43mengine\u001b[49m\u001b[43m=\u001b[49m\u001b[43mengine\u001b[49m\u001b[43m,\u001b[49m\n\u001b[32m    499\u001b[39m \u001b[43m        \u001b[49m\u001b[43mengine_kwargs\u001b[49m\u001b[43m=\u001b[49m\u001b[43mengine_kwargs\u001b[49m\u001b[43m,\u001b[49m\n\u001b[32m    500\u001b[39m \u001b[43m    \u001b[49m\u001b[43m)\u001b[49m\n\u001b[32m    501\u001b[39m \u001b[38;5;28;01melif\u001b[39;00m engine \u001b[38;5;129;01mand\u001b[39;00m engine != io.engine:\n\u001b[32m    502\u001b[39m     \u001b[38;5;28;01mraise\u001b[39;00m \u001b[38;5;167;01mValueError\u001b[39;00m(\n\u001b[32m    503\u001b[39m         \u001b[33m\"\u001b[39m\u001b[33mEngine should not be specified when passing \u001b[39m\u001b[33m\"\u001b[39m\n\u001b[32m    504\u001b[39m         \u001b[33m\"\u001b[39m\u001b[33man ExcelFile - ExcelFile already has the engine set\u001b[39m\u001b[33m\"\u001b[39m\n\u001b[32m    505\u001b[39m     )\n",
      "\u001b[36mFile \u001b[39m\u001b[32mc:\\Repos\\fca-dashboard4\\.venv\\Lib\\site-packages\\pandas\\io\\excel\\_base.py:1550\u001b[39m, in \u001b[36mExcelFile.__init__\u001b[39m\u001b[34m(self, path_or_buffer, engine, storage_options, engine_kwargs)\u001b[39m\n\u001b[32m   1548\u001b[39m     ext = \u001b[33m\"\u001b[39m\u001b[33mxls\u001b[39m\u001b[33m\"\u001b[39m\n\u001b[32m   1549\u001b[39m \u001b[38;5;28;01melse\u001b[39;00m:\n\u001b[32m-> \u001b[39m\u001b[32m1550\u001b[39m     ext = \u001b[43minspect_excel_format\u001b[49m\u001b[43m(\u001b[49m\n\u001b[32m   1551\u001b[39m \u001b[43m        \u001b[49m\u001b[43mcontent_or_path\u001b[49m\u001b[43m=\u001b[49m\u001b[43mpath_or_buffer\u001b[49m\u001b[43m,\u001b[49m\u001b[43m \u001b[49m\u001b[43mstorage_options\u001b[49m\u001b[43m=\u001b[49m\u001b[43mstorage_options\u001b[49m\n\u001b[32m   1552\u001b[39m \u001b[43m    \u001b[49m\u001b[43m)\u001b[49m\n\u001b[32m   1553\u001b[39m     \u001b[38;5;28;01mif\u001b[39;00m ext \u001b[38;5;129;01mis\u001b[39;00m \u001b[38;5;28;01mNone\u001b[39;00m:\n\u001b[32m   1554\u001b[39m         \u001b[38;5;28;01mraise\u001b[39;00m \u001b[38;5;167;01mValueError\u001b[39;00m(\n\u001b[32m   1555\u001b[39m             \u001b[33m\"\u001b[39m\u001b[33mExcel file format cannot be determined, you must specify \u001b[39m\u001b[33m\"\u001b[39m\n\u001b[32m   1556\u001b[39m             \u001b[33m\"\u001b[39m\u001b[33man engine manually.\u001b[39m\u001b[33m\"\u001b[39m\n\u001b[32m   1557\u001b[39m         )\n",
      "\u001b[36mFile \u001b[39m\u001b[32mc:\\Repos\\fca-dashboard4\\.venv\\Lib\\site-packages\\pandas\\io\\excel\\_base.py:1402\u001b[39m, in \u001b[36minspect_excel_format\u001b[39m\u001b[34m(content_or_path, storage_options)\u001b[39m\n\u001b[32m   1399\u001b[39m \u001b[38;5;28;01mif\u001b[39;00m \u001b[38;5;28misinstance\u001b[39m(content_or_path, \u001b[38;5;28mbytes\u001b[39m):\n\u001b[32m   1400\u001b[39m     content_or_path = BytesIO(content_or_path)\n\u001b[32m-> \u001b[39m\u001b[32m1402\u001b[39m \u001b[38;5;28;01mwith\u001b[39;00m \u001b[43mget_handle\u001b[49m\u001b[43m(\u001b[49m\n\u001b[32m   1403\u001b[39m \u001b[43m    \u001b[49m\u001b[43mcontent_or_path\u001b[49m\u001b[43m,\u001b[49m\u001b[43m \u001b[49m\u001b[33;43m\"\u001b[39;49m\u001b[33;43mrb\u001b[39;49m\u001b[33;43m\"\u001b[39;49m\u001b[43m,\u001b[49m\u001b[43m \u001b[49m\u001b[43mstorage_options\u001b[49m\u001b[43m=\u001b[49m\u001b[43mstorage_options\u001b[49m\u001b[43m,\u001b[49m\u001b[43m \u001b[49m\u001b[43mis_text\u001b[49m\u001b[43m=\u001b[49m\u001b[38;5;28;43;01mFalse\u001b[39;49;00m\n\u001b[32m   1404\u001b[39m \u001b[43m\u001b[49m\u001b[43m)\u001b[49m \u001b[38;5;28;01mas\u001b[39;00m handle:\n\u001b[32m   1405\u001b[39m     stream = handle.handle\n\u001b[32m   1406\u001b[39m     stream.seek(\u001b[32m0\u001b[39m)\n",
      "\u001b[36mFile \u001b[39m\u001b[32mc:\\Repos\\fca-dashboard4\\.venv\\Lib\\site-packages\\pandas\\io\\common.py:882\u001b[39m, in \u001b[36mget_handle\u001b[39m\u001b[34m(path_or_buf, mode, encoding, compression, memory_map, is_text, errors, storage_options)\u001b[39m\n\u001b[32m    873\u001b[39m         handle = \u001b[38;5;28mopen\u001b[39m(\n\u001b[32m    874\u001b[39m             handle,\n\u001b[32m    875\u001b[39m             ioargs.mode,\n\u001b[32m   (...)\u001b[39m\u001b[32m    878\u001b[39m             newline=\u001b[33m\"\u001b[39m\u001b[33m\"\u001b[39m,\n\u001b[32m    879\u001b[39m         )\n\u001b[32m    880\u001b[39m     \u001b[38;5;28;01melse\u001b[39;00m:\n\u001b[32m    881\u001b[39m         \u001b[38;5;66;03m# Binary mode\u001b[39;00m\n\u001b[32m--> \u001b[39m\u001b[32m882\u001b[39m         handle = \u001b[38;5;28;43mopen\u001b[39;49m\u001b[43m(\u001b[49m\u001b[43mhandle\u001b[49m\u001b[43m,\u001b[49m\u001b[43m \u001b[49m\u001b[43mioargs\u001b[49m\u001b[43m.\u001b[49m\u001b[43mmode\u001b[49m\u001b[43m)\u001b[49m\n\u001b[32m    883\u001b[39m     handles.append(handle)\n\u001b[32m    885\u001b[39m \u001b[38;5;66;03m# Convert BytesIO or file objects passed with an encoding\u001b[39;00m\n",
      "\u001b[31mFileNotFoundError\u001b[39m: [Errno 2] No such file or directory: '../examples/sample_data.xlsx'"
     ]
    }
   ],
   "source": [
    "# Import the data loading utility from notebook_utils\n",
    "from nexusml.utils.notebook_utils import discover_and_load_data\n",
    "\n",
    "# Discover and load data\n",
    "data, data_path = discover_and_load_data()\n",
    "\n",
    "# Display the first few rows\n",
    "print(f\"Data shape: {data.shape}\")\n",
    "data.head()"
   ]
  },
  {
   "cell_type": "code",
   "execution_count": null,
   "metadata": {},
   "outputs": [],
   "source": [
    "# Explore the data\n",
    "print(\"Data types:\")\n",
    "print(data.dtypes)\n",
    "\n",
    "print(\"\\nMissing values:\")\n",
    "print(data.isnull().sum())\n",
    "\n",
    "print(\"\\nSummary statistics:\")\n",
    "data.describe()"
   ]
  },
  {
   "cell_type": "markdown",
   "metadata": {},
   "source": [
    "## Pipeline Setup\n",
    "\n",
    "Let's set up the pipeline components for our experiment."
   ]
  },
  {
   "cell_type": "code",
   "execution_count": null,
   "metadata": {},
   "outputs": [],
   "source": [
    "# Import component implementations\n",
    "from nexusml.core.pipeline.components.data_loader import CSVDataLoader, ExcelDataLoader\n",
    "from nexusml.core.pipeline.components.data_preprocessor import StandardPreprocessor\n",
    "from nexusml.core.pipeline.components.feature_engineer import TextFeatureEngineer\n",
    "from nexusml.core.pipeline.components.model_builder import RandomForestModelBuilder\n",
    "from nexusml.core.pipeline.components.model_trainer import StandardModelTrainer\n",
    "from nexusml.core.pipeline.components.model_evaluator import StandardModelEvaluator\n",
    "from nexusml.core.pipeline.components.model_serializer import PickleModelSerializer\n",
    "from nexusml.core.pipeline.components.predictor import StandardPredictor\n",
    "\n",
    "# Create a registry and container\n",
    "registry = ComponentRegistry()\n",
    "container = DIContainer()\n",
    "\n",
    "# Register components\n",
    "registry.register(DataLoader, \"csv\", CSVDataLoader)\n",
    "registry.register(DataLoader, \"excel\", ExcelDataLoader)\n",
    "registry.register(DataPreprocessor, \"standard\", StandardPreprocessor)\n",
    "registry.register(FeatureEngineer, \"text\", TextFeatureEngineer)\n",
    "registry.register(ModelBuilder, \"random_forest\", RandomForestModelBuilder)\n",
    "registry.register(ModelTrainer, \"standard\", StandardModelTrainer)\n",
    "registry.register(ModelEvaluator, \"standard\", StandardModelEvaluator)\n",
    "registry.register(ModelSerializer, \"pickle\", PickleModelSerializer)\n",
    "registry.register(Predictor, \"standard\", StandardPredictor)\n",
    "\n",
    "# Set default implementations\n",
    "registry.set_default_implementation(DataLoader, \"excel\")\n",
    "registry.set_default_implementation(DataPreprocessor, \"standard\")\n",
    "registry.set_default_implementation(FeatureEngineer, \"text\")\n",
    "registry.set_default_implementation(ModelBuilder, \"random_forest\")\n",
    "registry.set_default_implementation(ModelTrainer, \"standard\")\n",
    "registry.set_default_implementation(ModelEvaluator, \"standard\")\n",
    "registry.set_default_implementation(ModelSerializer, \"pickle\")\n",
    "registry.set_default_implementation(Predictor, \"standard\")\n",
    "\n",
    "# Create a factory and orchestrator\n",
    "factory = PipelineFactory(registry, container)\n",
    "context = PipelineContext()\n",
    "orchestrator = PipelineOrchestrator(factory, context)"
   ]
  },
  {
   "cell_type": "markdown",
   "metadata": {},
   "source": [
    "## Model Training\n",
    "\n",
    "Now, let's train a model using the pipeline."
   ]
  },
  {
   "cell_type": "code",
   "execution_count": null,
   "metadata": {},
   "outputs": [],
   "source": [
    "# Train a model\n",
    "try:\n",
    "    model, metrics = orchestrator.train_model(\n",
    "        data_path=data_path,\n",
    "        test_size=0.3,\n",
    "        random_state=42,\n",
    "        optimize_hyperparameters=True,\n",
    "        output_dir=\"../outputs/models\",\n",
    "        model_name=\"equipment_classifier_experiment\",\n",
    "    )\n",
    "    \n",
    "    print(\"Model training completed successfully\")\n",
    "    print(f\"Model saved to: {orchestrator.context.get('model_path')}\")\n",
    "    print(f\"Metadata saved to: {orchestrator.context.get('metadata_path')}\")\n",
    "    print(\"Metrics:\")\n",
    "    for key, value in metrics.items():\n",
    "        print(f\"  {key}: {value}\")\n",
    "except Exception as e:\n",
    "    print(f\"Error training model: {e}\")"
   ]
  },
  {
   "cell_type": "markdown",
   "metadata": {},
   "source": [
    "## Model Evaluation\n",
    "\n",
    "Let's evaluate the model in more detail."
   ]
  },
  {
   "cell_type": "code",
   "execution_count": null,
   "metadata": {},
   "outputs": [],
   "source": [
    "# Evaluate the model\n",
    "try:\n",
    "    results = orchestrator.evaluate(\n",
    "        model=model,\n",
    "        data_path=data_path,\n",
    "        output_path=\"../outputs/evaluation_results_experiment.json\",\n",
    "    )\n",
    "    \n",
    "    print(\"Evaluation completed successfully\")\n",
    "    print(f\"Evaluation results saved to: ../outputs/evaluation_results_experiment.json\")\n",
    "    print(\"Metrics:\")\n",
    "    for key, value in results[\"metrics\"].items():\n",
    "        print(f\"  {key}: {value}\")\n",
    "except Exception as e:\n",
    "    print(f\"Error evaluating model: {e}\")"
   ]
  },
  {
   "cell_type": "markdown",
   "metadata": {},
   "source": [
    "## Visualization\n",
    "\n",
    "Let's visualize the results."
   ]
  },
  {
   "cell_type": "code",
   "execution_count": null,
   "metadata": {},
   "outputs": [],
   "source": [
    "# Visualize the metrics\n",
    "try:\n",
    "    # Create a bar chart of the metrics\n",
    "    metrics_df = pd.DataFrame(list(metrics.items()), columns=['Metric', 'Value'])\n",
    "    plt.figure(figsize=(10, 6))\n",
    "    sns.barplot(x='Metric', y='Value', data=metrics_df)\n",
    "    plt.title('Model Metrics')\n",
    "    plt.xticks(rotation=45)\n",
    "    plt.tight_layout()\n",
    "    plt.show()\n",
    "    \n",
    "    # Create a confusion matrix if available\n",
    "    if 'confusion_matrix' in results['analysis']:\n",
    "        cm = results['analysis']['confusion_matrix']\n",
    "        plt.figure(figsize=(10, 8))\n",
    "        sns.heatmap(cm, annot=True, fmt='d', cmap='Blues')\n",
    "        plt.title('Confusion Matrix')\n",
    "        plt.xlabel('Predicted')\n",
    "        plt.ylabel('Actual')\n",
    "        plt.tight_layout()\n",
    "        plt.show()\n",
    "except Exception as e:\n",
    "    print(f\"Error visualizing results: {e}\")"
   ]
  },
  {
   "cell_type": "markdown",
   "metadata": {},
   "source": [
    "## Prediction\n",
    "\n",
    "Finally, let's make predictions on new data."
   ]
  },
  {
   "cell_type": "code",
   "execution_count": null,
   "metadata": {},
   "outputs": [],
   "source": [
    "# Create sample data for prediction\n",
    "prediction_data = pd.DataFrame({\n",
    "    \"equipment_tag\": [\"AHU-01\", \"CHW-01\", \"P-01\"],\n",
    "    \"manufacturer\": [\"Trane\", \"Carrier\", \"Armstrong\"],\n",
    "    \"model\": [\"M-1000\", \"C-2000\", \"A-3000\"],\n",
    "    \"description\": [\n",
    "        \"Air Handling Unit with cooling coil\",\n",
    "        \"Centrifugal Chiller for HVAC system\",\n",
    "        \"Centrifugal Pump for chilled water\",\n",
    "    ],\n",
    "})\n",
    "\n",
    "# Make predictions\n",
    "try:\n",
    "    predictions = orchestrator.predict(\n",
    "        model=model,\n",
    "        data=prediction_data,\n",
    "        output_path=\"../outputs/predictions_experiment.csv\",\n",
    "    )\n",
    "    \n",
    "    print(\"Predictions completed successfully\")\n",
    "    print(f\"Predictions saved to: {orchestrator.context.get('output_path')}\")\n",
    "    print(\"Sample predictions:\")\n",
    "    display(predictions)\n",
    "except Exception as e:\n",
    "    print(f\"Error making predictions: {e}\")"
   ]
  },
  {
   "cell_type": "markdown",
   "metadata": {},
   "source": [
    "## Conclusion\n",
    "\n",
    "In this notebook, we demonstrated how to use the NexusML package for equipment classification. We loaded data, trained a model, evaluated it, and made predictions using the new architecture.\n",
    "\n",
    "The new architecture provides a flexible, maintainable, and testable system for equipment classification. By following a modular design with clear interfaces, dependency injection, and a factory pattern, it makes it easy to create, configure, and extend the pipeline."
   ]
  }
 ],
 "metadata": {
  "kernelspec": {
   "display_name": ".venv",
   "language": "python",
   "name": "python3"
  },
  "language_info": {
   "codemirror_mode": {
    "name": "ipython",
    "version": 3
   },
   "file_extension": ".py",
   "mimetype": "text/x-python",
   "name": "python",
   "nbconvert_exporter": "python",
   "pygments_lexer": "ipython3",
   "version": "3.12.6"
  }
 },
 "nbformat": 4,
 "nbformat_minor": 4
}