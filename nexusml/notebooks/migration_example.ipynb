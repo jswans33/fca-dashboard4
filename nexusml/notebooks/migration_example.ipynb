{
  "cells": [
    {
      "cell_type": "markdown",
      "metadata": {},
      "source": [
        "# NexusML Migration Example\n",
        "\n",
        "This notebook demonstrates how to migrate from the old NexusML architecture to the new refactored architecture. It shows how to load models trained with the old architecture, convert them to the new architecture, and make predictions with both architectures."
      ]
    },
    {
      "cell_type": "markdown",
      "metadata": {},
      "source": [
        "## Setup\n",
        "\n",
        "First, let's import the necessary modules and set up the environment."
      ]
    },
    {
      "cell_type": "code",
      "execution_count": null,
      "metadata": {},
      "outputs": [],
      "source": [
        "import os\n",
        "import sys\n",
        "import pandas as pd\n",
        "import numpy as np\n",
        "import matplotlib.pyplot as plt\n",
        "import seaborn as sns\n",
        "import pickle\n",
        "import time\n",
        "\n",
        "# Add the project root to the Python path if needed\n",
        "project_root = os.path.abspath(os.path.join(os.getcwd(), '..'))\n",
        "if project_root not in sys.path:\n",
        "    sys.path.append(project_root)\n",
        "\n",
        "# Import old NexusML modules\n",
        "from nexusml.train_model_pipeline import train_model as train_model_old\n",
        "from nexusml.predict import predict as predict_old\n",
        "\n",
        "# Import new NexusML modules\n",
        "from nexusml.core.di.container import DIContainer\n",
        "from nexusml.core.pipeline.context import PipelineContext\n",
        "from nexusml.core.pipeline.factory import PipelineFactory\n",
        "from nexusml.core.pipeline.orchestrator import PipelineOrchestrator\n",
        "from nexusml.core.pipeline.registry import ComponentRegistry\n",
        "from nexusml.core.config.provider import ConfigurationProvider\n",
        "from nexusml.core.pipeline.adapters.model_adapter import OldModelAdapter\n",
        "\n",
        "# Set up plotting\n",
        "%matplotlib inline\n",
        "plt.style.use('seaborn-v0_8-whitegrid')\n",
        "sns.set_context('notebook')"
      ]
    },
    {
      "cell_type": "markdown",
      "metadata": {},
      "source": [
        "## Load Sample Data\n",
        "\n",
        "Let's load some sample data that we'll use for training and prediction."
      ]
    },
    {
      "cell_type": "code",
      "execution_count": null,
      "metadata": {},
      "outputs": [],
      "source": [
        "# Define the path to the data file\n",
        "data_path = \"../examples/sample_data.xlsx\"\n",
        "\n",
        "# Load the data using pandas\n",
        "data = pd.read_excel(data_path)\n",
        "\n",
        "# Display the first few rows\n",
        "print(f\"Data shape: {data.shape}\")\n",
        "data.head()"
      ]
    },
    {
      "cell_type": "markdown",
      "metadata": {},
      "source": [
        "## Train a Model with the Old Architecture\n",
        "\n",
        "First, let's train a model using the old architecture."
      ]
    },
    {
      "cell_type": "code",
      "execution_count": null,
      "metadata": {},
      "outputs": [],
      "source": [
        "# Train a model using the old architecture\n",
        "try:\n",
        "    start_time = time.time()\n",
        "    old_model, old_metrics = train_model_old(\n",
        "        data_path=data_path,\n",
        "        test_size=0.3,\n",
        "        random_state=42,\n",
        "        output_dir=\"../outputs/models\",\n",
        "        model_name=\"old_architecture_model\"\n",
        "    )\n",
        "    old_training_time = time.time() - start_time\n",
        "    \n",
        "    print(\"Model training with old architecture completed successfully\")\n",
        "    print(f\"Training time: {old_training_time:.2f} seconds\")\n",
        "    print(\"Metrics:\")\n",
        "    for key, value in old_metrics.items():\n",
        "        print(f\"  {key}: {value}\")\n",
        "except Exception as e:\n",
        "    print(f\"Error training model with old architecture: {e}\")"
      ]
    },
    {
      "cell_type": "markdown",
      "metadata": {},
      "source": [
        "## Set Up the New Architecture\n",
        "\n",
        "Now, let's set up the new architecture."
      ]
    },
    {
      "cell_type": "code",
      "execution_count": null,
      "metadata": {},
      "outputs": [],
      "source": [
        "# Import component implementations\n",
        "from nexusml.core.pipeline.components.data_loader import CSVDataLoader, ExcelDataLoader\n",
        "from nexusml.core.pipeline.components.data_preprocessor import StandardPreprocessor\n",
        "from nexusml.core.pipeline.components.feature_engineer import TextFeatureEngineer\n",
        "from nexusml.core.pipeline.components.model_builder import RandomForestModelBuilder\n",
        "from nexusml.core.pipeline.components.model_trainer import StandardModelTrainer\n",
        "from nexusml.core.pipeline.components.model_evaluator import StandardModelEvaluator\n",
        "from nexusml.core.pipeline.components.model_serializer import PickleModelSerializer\n",
        "from nexusml.core.pipeline.components.predictor import StandardPredictor\n",
        "\n",
        "# Create a registry and container\n",
        "registry = ComponentRegistry()\n",
        "container = DIContainer()\n",
        "\n",
        "# Register components\n",
        "registry.register(DataLoader, \"csv\", CSVDataLoader)\n",
        "registry.register(DataLoader, \"excel\", ExcelDataLoader)\n",
        "registry.register(DataPreprocessor, \"standard\", StandardPreprocessor)\n",
        "registry.register(FeatureEngineer, \"text\", TextFeatureEngineer)\n",
        "registry.register(ModelBuilder, \"random_forest\", RandomForestModelBuilder)\n",
        "registry.register(ModelTrainer, \"standard\", StandardModelTrainer)\n",
        "registry.register(ModelEvaluator, \"standard\", StandardModelEvaluator)\n",
        "registry.register(ModelSerializer, \"pickle\", PickleModelSerializer)\n",
        "registry.register(Predictor, \"standard\", StandardPredictor)\n",
        "\n",
        "# Set default implementations\n",
        "registry.set_default_implementation(DataLoader, \"excel\")\n",
        "registry.set_default_implementation(DataPreprocessor, \"standard\")\n",
        "registry.set_default_implementation(FeatureEngineer, \"text\")\n",
        "registry.set_default_implementation(ModelBuilder, \"random_forest\")\n",
        "registry.set_default_implementation(ModelTrainer, \"standard\")\n",
        "registry.set_default_implementation(ModelEvaluator, \"standard\")\n",
        "registry.set_default_implementation(ModelSerializer, \"pickle\")\n",
        "registry.set_default_implementation(Predictor, \"standard\")\n",
        "\n",
        "# Create a factory and orchestrator\n",
        "factory = PipelineFactory(registry, container)\n",
        "context = PipelineContext()\n",
        "orchestrator = PipelineOrchestrator(factory, context)"
      ]
    },
    {
      "cell_type": "markdown",
      "metadata": {},
      "source": [
        "## Train a Model with the New Architecture\n",
        "\n",
        "Now, let's train a model using the new architecture."
      ]
    },
    {
      "cell_type": "code",
      "execution_count": null,
      "metadata": {},
      "outputs": [],
      "source": [
        "# Train a model using the new architecture\n",
        "try:\n",
        "    start_time = time.time()\n",
        "    new_model, new_metrics = orchestrator.train_model(\n",
        "        data_path=data_path,\n",
        "        test_size=0.3,\n",
        "        random_state=42,\n",
        "        optimize_hyperparameters=False,\n",
        "        output_dir=\"../outputs/models\",\n",
        "        model_name=\"new_architecture_model\",\n",
        "    )\n",
        "    new_training_time = time.time() - start_time\n",
        "    \n",
        "    print(\"Model training with new architecture completed successfully\")\n",
        "    print(f\"Training time: {new_training_time:.2f} seconds\")\n",
        "    print(\"Metrics:\")\n",
        "    for key, value in new_metrics.items():\n",
        "        print(f\"  {key}: {value}\")\n",
        "except Exception as e:\n",
        "    print(f\"Error training model with new architecture: {e}\")"
      ]
    },
    {
      "cell_type": "markdown",
      "metadata": {},
      "source": [
        "## Compare Training Performance\n",
        "\n",
        "Let's compare the performance of the old and new architectures."
      ]
    },
    {
      "cell_type": "code",
      "execution_count": null,
      "metadata": {},
      "outputs": [],
      "source": [
        "# Compare training times\n",
        "print(f\"Old architecture training time: {old_training_time:.2f} seconds\")\n",
        "print(f\"New architecture training time: {new_training_time:.2f} seconds\")\n",
        "print(f\"Difference: {new_training_time - old_training_time:.2f} seconds\")\n",
        "print(f\"Ratio: {new_training_time / old_training_time:.2f}x\")\n",
        "\n",
        "# Compare metrics\n",
        "print(\"\\nMetrics comparison:\")\n",
        "all_metrics = set(old_metrics.keys()) | set(new_metrics.keys())\n",
        "for metric in all_metrics:\n",
        "    old_value = old_metrics.get(metric, \"N/A\")\n",
        "    new_value = new_metrics.get(metric, \"N/A\")\n",
        "    print(f\"  {metric}: Old = {old_value}, New = {new_value}\")"
      ]
    },
    {
      "cell_type": "markdown",
      "metadata": {},
      "source": [
        "## Convert Old Model to New Architecture\n",
        "\n",
        "Now, let's convert the old model to the new architecture using the adapter pattern."
      ]
    },
    {
      "cell_type": "code",
      "execution_count": null,
      "metadata": {},
      "outputs": [],
      "source": [
        "# Convert old model to new architecture\n",
        "try:\n",
        "    # Create an adapter for the old model\n",
        "    adapted_model = OldModelAdapter(old_model)\n",
        "    \n",
        "    # Save the adapted model\n",
        "    model_serializer = factory.create_model_serializer()\n",
        "    adapted_model_path = \"../outputs/models/adapted_model.pkl\"\n",
        "    model_serializer.save_model(adapted_model, adapted_model_path)\n",
        "    \n",
        "    print(f\"Old model adapted to new architecture and saved to {adapted_model_path}\")\n",
        "except Exception as e:\n",
        "    print(f\"Error adapting old model: {e}\")"
      ]
    },
    {
      "cell_type": "markdown",
      "metadata": {},
      "source": [
        "## Make Predictions with Both Architectures\n",
        "\n",
        "Let's make predictions using both the old and new architectures."
      ]
    },
    {
      "cell_type": "code",
      "execution_count": null,
      "metadata": {},
      "outputs": [],
      "source": [
        "# Create sample data for prediction\n",
        "prediction_data = pd.DataFrame({\n",
        "    \"equipment_tag\": [\"AHU-01\", \"CHW-01\", \"P-01\"],\n",
        "    \"manufacturer\": [\"Trane\", \"Carrier\", \"Armstrong\"],\n",
        "    \"model\": [\"M-1000\", \"C-2000\", \"A-3000\"],\n",
        "    \"description\": [\n",
        "        \"Air Handling Unit with cooling coil\",\n",
        "        \"Centrifugal Chiller for HVAC system\",\n",
        "        \"Centrifugal Pump for chilled water\",\n",
        "    ],\n",
        "})\n",
        "\n",
        "# Make predictions with old architecture\n",
        "try:\n",
        "    start_time = time.time()\n",
        "    old_predictions = predict_old(\n",
        "        model=old_model,\n",
        "        data=prediction_data,\n",
        "        output_path=\"../outputs/old_predictions.csv\",\n",
        "    )\n",
        "    old_prediction_time = time.time() - start_time\n",
        "    \n",
        "    print(\"Predictions with old architecture completed successfully\")\n",
        "    print(f\"Prediction time: {old_prediction_time:.2f} seconds\")\n",
        "    print(\"Sample predictions:\")\n",
        "    display(old_predictions)\n",
        "except Exception as e:\n",
        "    print(f\"Error making predictions with old architecture: {e}\")\n",
        "\n",
        "# Make predictions with new architecture\n",
        "try:\n",
        "    start_time = time.time()\n",
        "    new_predictions = orchestrator.predict(\n",
        "        model=new_model,\n",
        "        data=prediction_data,\n",
        "        output_path=\"../outputs/new_predictions.csv\",\n",
        "    )\n",
        "    new_prediction_time = time.time() - start_time\n",
        "    \n",
        "    print(\"\\nPredictions with new architecture completed successfully\")\n",
        "    print(f\"Prediction time: {new_prediction_time:.2f} seconds\")\n",
        "    print(\"Sample predictions:\")\n",
        "    display(new_predictions)\n",
        "except Exception as e:\n",
        "    print(f\"Error making predictions with new architecture: {e}\")\n",
        "\n",
        "# Make predictions with adapted model\n",
        "try:\n",
        "    start_time = time.time()\n",
        "    adapted_predictions = orchestrator.predict(\n",
        "        model=adapted_model,\n",
        "        data=prediction_data,\n",
        "        output_path=\"../outputs/adapted_predictions.csv\",\n",
        "    )\n",
        "    adapted_prediction_time = time.time() - start_time\n",
        "    \n",
        "    print(\"\\nPredictions with adapted model completed successfully\")\n",
        "    print(f\"Prediction time: {adapted_prediction_time:.2f} seconds\")\n",
        "    print(\"Sample predictions:\")\n",
        "    display(adapted_predictions)\n",
        "except Exception as e:\n",
        "    print(f\"Error making predictions with adapted model: {e}\")"
      ]
    },
    {
      "cell_type": "markdown",
      "metadata": {},
      "source": [
        "## Compare Prediction Results\n",
        "\n",
        "Let's compare the prediction results from the different models."
      ]
    },
    {
      "cell_type": "code",
      "execution_count": null,
      "metadata": {},
      "outputs": [],
      "source": [
        "# Compare prediction times\n",
        "print(f\"Old architecture prediction time: {old_prediction_time:.2f} seconds\")\n",
        "print(f\"New architecture prediction time: {new_prediction_time:.2f} seconds\")\n",
        "print(f\"Adapted model prediction time: {adapted_prediction_time:.2f} seconds\")\n",
        "\n",
        "# Compare prediction results\n",
        "print(\"\\nPrediction comparison:\")\n",
        "for i in range(len(prediction_data)):\n",
        "    print(f\"Item {i+1}: {prediction_data.iloc[i]['description']}\")\n",
        "    \n",
        "    # Get predictions from each model\n",
        "    old_pred = old_predictions.iloc[i].to_dict() if i < len(old_predictions) else {}\n",
        "    new_pred = new_predictions.iloc[i].to_dict() if i < len(new_predictions) else {}\n",
        "    adapted_pred = adapted_predictions.iloc[i].to_dict() if i < len(adapted_predictions) else {}\n",
        "    \n",
        "    # Compare predictions\n",
        "    all_keys = set(old_pred.keys()) | set(new_pred.keys()) | set(adapted_pred.keys())\n",
        "    for key in all_keys:\n",
        "        old_val = old_pred.get(key, \"N/A\")\n",
        "        new_val = new_pred.get(key, \"N/A\")\n",
        "        adapted_val = adapted_pred.get(key, \"N/A\")\n",
        "        print(f\"  {key}: Old = {old_val}, New = {new_val}, Adapted = {adapted_val}\")"
      ]
    },
    {
      "cell_type": "markdown",
      "metadata": {},
      "source": [
        "## Conclusion\n",
        "\n",
        "In this notebook, we demonstrated how to migrate from the old NexusML architecture to the new refactored architecture. We trained models with both architectures, converted an old model to the new architecture using the adapter pattern, and made predictions with all three models.\n",
        "\n",
        "The new architecture provides several advantages:\n",
        "- More modular and maintainable code\n",
        "- Better separation of concerns\n",
        "- Improved testability\n",
        "- More configurable and extensible\n",
        "\n",
        "The adapter pattern allows for a smooth transition from the old architecture to the new one, enabling you to continue using existing models while gradually migrating to the new architecture."
      ]
    }
  ],
  "metadata": {
    "kernelspec": {
      "display_name": "Python 3",
      "language": "python",
      "name": "python3"
    },
    "language_info": {
      "codemirror_mode": {
        "name": "ipython",
        "version": 3
      },
      "file_extension": ".py",
      "mimetype": "text/x-python",
      "name": "python",
      "nbconvert_exporter": "python",
      "pygments_lexer": "ipython3",
      "version": "3.8.10"
    }
  },
  "nbformat": 4,
  "nbformat_minor": 4
}
